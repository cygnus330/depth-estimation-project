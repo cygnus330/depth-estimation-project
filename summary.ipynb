{
 "cells": [
  {
   "cell_type": "code",
   "execution_count": 1,
   "id": "2bcb7757-8f29-40f0-b202-cca48b552127",
   "metadata": {},
   "outputs": [
    {
     "name": "stdout",
     "output_type": "stream",
     "text": [
      "Using CUDA\n"
     ]
    }
   ],
   "source": [
    "import warnings\n",
    "warnings.filterwarnings(action='ignore')\n",
    "\n",
    "import torch\n",
    "torch.manual_seed(0)\n",
    "assert(torch.cuda.is_available() == True)\n",
    "\n",
    "print(f\"Using CUDA\")"
   ]
  },
  {
   "cell_type": "code",
   "execution_count": 2,
   "id": "512f196f-daea-4beb-82f6-db46add63400",
   "metadata": {},
   "outputs": [],
   "source": [
    "import codes.networks as network\n",
    "from torchinfo import summary\n",
    "\n",
    "model = network.cnn_v1().cuda() # load model\n",
    "name = \"cnn_v1\" # set model name\n",
    "shape = (16, 3, 120, 160) # set input shape\n",
    "\n",
    "summ = summary(model, shape)\n",
    "with open(f\"summary/{name}.txt\", \"w\") as f:\n",
    "    f.write(str(summ))"
   ]
  },
  {
   "cell_type": "code",
   "execution_count": null,
   "id": "a4632c83-bf45-4c08-adaa-7360f8c7ac62",
   "metadata": {},
   "outputs": [],
   "source": []
  }
 ],
 "metadata": {
  "kernelspec": {
   "display_name": "Python 3 (ipykernel)",
   "language": "python",
   "name": "python3"
  },
  "language_info": {
   "codemirror_mode": {
    "name": "ipython",
    "version": 3
   },
   "file_extension": ".py",
   "mimetype": "text/x-python",
   "name": "python",
   "nbconvert_exporter": "python",
   "pygments_lexer": "ipython3",
   "version": "3.10.12"
  }
 },
 "nbformat": 4,
 "nbformat_minor": 5
}
